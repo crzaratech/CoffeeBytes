{
  "nbformat": 4,
  "nbformat_minor": 0,
  "metadata": {
    "colab": {
      "name": "CoffeeBytes_06.ipynb",
      "provenance": [],
      "collapsed_sections": [],
      "include_colab_link": true
    },
    "kernelspec": {
      "name": "python3",
      "display_name": "Python 3"
    }
  },
  "cells": [
    {
      "cell_type": "markdown",
      "metadata": {
        "id": "view-in-github",
        "colab_type": "text"
      },
      "source": [
        "<a href=\"https://colab.research.google.com/github/enrprz/CoffeeBytes/blob/master/CoffeeBytes_06.ipynb\" target=\"_parent\"><img src=\"https://colab.research.google.com/assets/colab-badge.svg\" alt=\"Open In Colab\"/></a>"
      ]
    },
    {
      "cell_type": "markdown",
      "metadata": {
        "id": "gZ8HE_gCAn6R",
        "colab_type": "text"
      },
      "source": [
        "#Week 6: Dictionaries && Modules\n",
        "\n",
        "Hello and welcome to the 6th part of the coding series. At the end of this lesson you should be able to: \n",
        "\n",
        "\n",
        "*   Learn about Dictionaries.\n",
        "*   Learn about Modules\n",
        "*   Code your own Dictionaries. \n",
        "*   Make use of existing Modules. \n",
        "*   Practice using Dictionaries and Modules with previous lessons.\n",
        "*   Read more technical terms.\n",
        "\n",
        "Today you will be introduced to Dictionaries, and Modules. Adding these to our skill repertoire gets us closer to the end of the course. Be warned that as we learn more skills, the code might get slighlty longer than usual. \n",
        "Remember if you have any problems or questions do not hesitate to ask the instructor ([Enrique](https://www.instagram.com/01000101.sh/?hl=en)) or to ask the hacker community on the SHPE Discord."
      ]
    },
    {
      "cell_type": "markdown",
      "metadata": {
        "id": "xoSdQyIBPx_H",
        "colab_type": "text"
      },
      "source": [
        "# Dictionaries:\n",
        "\n",
        "A dictionary is a collection of unordered, changeable and indexed variables. You will know it is a dictionary for the use of curly braces {}. It also has the unique ability to contain **keys**, and **values**. This is extremely helpful while coding since it lets you be faster when looking for values in different problems. Lets take a look at the anatomy of a dictionary:\n",
        "\n",
        "```\n",
        "name_of_dictionary = {\n",
        "    \"key1\" : value1,\n",
        "    \"key2\" : value2,\n",
        "    \"key3\" : value3\n",
        "}\n",
        "```\n",
        "\n"
      ]
    },
    {
      "cell_type": "code",
      "metadata": {
        "id": "F0aZ9FIbAnFV",
        "colab_type": "code",
        "colab": {}
      },
      "source": [
        "# Lets go ahead and start with something very familiar to you\n",
        "# Contacts!\n",
        "contacts = {\n",
        "    \"Antonio\" : 9560000101,\n",
        "    \"Enrique\" : 9560101010,\n",
        "    \"Carlos\"  : 9561111000\n",
        "}\n",
        "\n",
        "# lets display the contacts dictionary\n",
        "print(contacts)"
      ],
      "execution_count": 0,
      "outputs": []
    },
    {
      "cell_type": "markdown",
      "metadata": {
        "id": "KQmI84Vb8anM",
        "colab_type": "text"
      },
      "source": [
        "But wait, now you ran into your aunt Mary. She got a new phone, how do we add it?"
      ]
    },
    {
      "cell_type": "code",
      "metadata": {
        "id": "oEfTuX838iJO",
        "colab_type": "code",
        "colab": {}
      },
      "source": [
        "contacts = {\n",
        "    \"Antonio\" : 9560000101,\n",
        "    \"Enrique\" : 9560101010,\n",
        "    \"Carlos\"  : 9561111000\n",
        "}\n",
        "\n",
        "# lets add a new key AND value.\n",
        "contacts[\"Mary\"] = 9561111111\n",
        "\n",
        "# lets display the contacts dictionary\n",
        "print(contacts)"
      ],
      "execution_count": 0,
      "outputs": []
    },
    {
      "cell_type": "markdown",
      "metadata": {
        "id": "_I0SGcUE8zwK",
        "colab_type": "text"
      },
      "source": [
        "But now you are no longer friends with Enrique, sadly, you need to delete his number. How do we do it?"
      ]
    },
    {
      "cell_type": "code",
      "metadata": {
        "id": "ek0otaEq8-79",
        "colab_type": "code",
        "colab": {}
      },
      "source": [
        "contacts = {\n",
        "    \"Antonio\" : 9560000101,\n",
        "    \"Enrique\" : 9560101010,\n",
        "    \"Carlos\"  : 9561111000,\n",
        "    \"Mary\"    : 9561111111\n",
        "}\n",
        "\n",
        "# Delete Enrique's key and value\n",
        "del contacts[\"Enrique\"]\n",
        "\n",
        "print(contacts)"
      ],
      "execution_count": 0,
      "outputs": []
    },
    {
      "cell_type": "markdown",
      "metadata": {
        "id": "yk2rjUXx6_9y",
        "colab_type": "text"
      },
      "source": [
        "Lets make use of some of the skills learned in previous lessons to get a better grasp of Dictionaries:"
      ]
    },
    {
      "cell_type": "code",
      "metadata": {
        "id": "xYORT_547Jm_",
        "colab_type": "code",
        "colab": {}
      },
      "source": [
        "# Loop thru the names (keys) of the dictionary using a FOR loop!\n",
        "\n",
        "contacts = {\n",
        "    \"Antonio\" : 9560000101,\n",
        "    \"Enrique\" : 9560101010,\n",
        "    \"Carlos\"  : 9561111000,\n",
        "    \"Mary\"    : 9561111111\n",
        "}\n",
        "\n",
        "# create loop\n",
        "for x in contacts:\n",
        "  print(x)"
      ],
      "execution_count": 0,
      "outputs": []
    },
    {
      "cell_type": "markdown",
      "metadata": {
        "id": "p6S8EDzp7luW",
        "colab_type": "text"
      },
      "source": [
        "We can also display only the phone#'s (Values):"
      ]
    },
    {
      "cell_type": "code",
      "metadata": {
        "id": "60KjceDh7vnp",
        "colab_type": "code",
        "colab": {}
      },
      "source": [
        "contacts = {\n",
        "    \"Antonio\" : 9560000101,\n",
        "    \"Enrique\" : 9560101010,\n",
        "    \"Carlos\"  : 9561111000,\n",
        "    \"Mary\"    : 9561111111\n",
        "}\n",
        "\n",
        "# create loop to display phone #\n",
        "for x in contacts.values():\n",
        "  print(x)"
      ],
      "execution_count": 0,
      "outputs": []
    },
    {
      "cell_type": "markdown",
      "metadata": {
        "id": "qjJNWlNX781g",
        "colab_type": "text"
      },
      "source": [
        "But that's boring, we need to know BOTH the key and the values at times. How do we do it?"
      ]
    },
    {
      "cell_type": "code",
      "metadata": {
        "id": "fmblFyZz78SC",
        "colab_type": "code",
        "colab": {}
      },
      "source": [
        "contacts = {\n",
        "    \"Antonio\" : 9560000101,\n",
        "    \"Enrique\" : 9560101010,\n",
        "    \"Carlos\"  : 9561111000,\n",
        "    \"Mary\"    : 9561111111\n",
        "}\n",
        "\n",
        "# create loop to display the Keys and the Values inside dictionary\n",
        "for x,y in contacts.items():\n",
        "  print(x,y)"
      ],
      "execution_count": 0,
      "outputs": []
    },
    {
      "cell_type": "markdown",
      "metadata": {
        "id": "C6REimT4882D",
        "colab_type": "text"
      },
      "source": [
        "Python comes preloaded with some very useful functions for Dictionaries, here are some of them:\n",
        "\n",
        "     Function | Description\n",
        "____________________\n",
        "* **clear()** - Removes all the elements from the dictionary.\n",
        "* **copy()** - Returns a copy of the dictionary.\n",
        "* **fromkeys()**\t- Returns a dictionary with the specified keys and values.\n",
        "* **get()**\t- Returns the value of the specified key.\n",
        "* **items()**\t- Returns a list containing the a tuple for each key value pair.\n",
        "* **keys()**\t- Returns a list containing the dictionary's keys.\n",
        "* **pop()**\t- Removes the element with the specified key.\n",
        "* **popitem()**\t- Removes the last inserted key-value pair.\n",
        "* **setdefault()**\t- Returns the value of the specified key. If the key does not exist: insert the key, with the specified value.\n",
        "* **update()**\t- Updates the dictionary with the specified key-value pairs.\n",
        "* **values()**\t- Returns a list of all the values in the dictionary.\n",
        "\n",
        "Lets go thru some of the most useful examples, **Dictionaries** inside **Dictionaries**! "
      ]
    },
    {
      "cell_type": "code",
      "metadata": {
        "id": "rLHTHark-kmq",
        "colab_type": "code",
        "colab": {}
      },
      "source": [
        "# Create 3 contact notebooks, inside a main contact dictionary\n",
        "\n",
        "myContacts = {\n",
        "    \"work_contacts\" : {\n",
        "        \"name\"  : \"Sheryl\",\n",
        "        \"Phone\" : 9561110000\n",
        "    },\n",
        "    \n",
        "    \"school_contacts\" : {\n",
        "        \"name\"  : \"Jaime\",\n",
        "        \"phone\" : 9560001101\n",
        "    },\n",
        "    \"friends_contacts\" : {\n",
        "        \"name\" : \"Jerry\",\n",
        "        \"phone\" : 9561101010\n",
        "    }\n",
        "}\n",
        "  \n",
        "# Now display all your contacts!\n",
        "print(myContacts)"
      ],
      "execution_count": 0,
      "outputs": []
    },
    {
      "cell_type": "markdown",
      "metadata": {
        "id": "CH4D1ndNBBM3",
        "colab_type": "text"
      },
      "source": [
        "You don't always have to do this much code to create a dictionary. Remember, reusability is part of the game. In the next exercise we make use of a 'constructor' to make a dictionary. Lets check it out:"
      ]
    },
    {
      "cell_type": "code",
      "metadata": {
        "id": "CqoM2cvIBOPx",
        "colab_type": "code",
        "colab": {}
      },
      "source": [
        "# Reserved for in class example:\n",
        "\n",
        "\n",
        "\n",
        "\n"
      ],
      "execution_count": 0,
      "outputs": []
    },
    {
      "cell_type": "markdown",
      "metadata": {
        "id": "BpwgQ8CdBQ0v",
        "colab_type": "text"
      },
      "source": [
        "# Modules:\n",
        "\n",
        "Hurray! This is it, the last of the skills that will serve you well beyond you could ever imagine. Modules are libraries or programs made by other people, and you can add them to your program for better functionality, as well as easy to access functions. Some of the most commonly used would be Tensorflow, Numpy, Pandas, Keras, and OS.\n",
        "\n",
        "Anatomy of a module:\n",
        "\n",
        "```\n",
        "import name_of_module as short_name\n",
        "\n",
        "  regular code\n",
        "```\n",
        "\n",
        "Some of these modules will required for you to download them beforehand on your computer. But once that is done, its just the same as we've been doing so far. Ready to start? lets use our first module for something fun."
      ]
    },
    {
      "cell_type": "markdown",
      "metadata": {
        "id": "PfexoLQS4a4Q",
        "colab_type": "text"
      },
      "source": [
        "We will be using the **calendar** module to display a given month given a year. If you find this interesting you can learn more about the module [here](https://docs.python.org/3/library/calendar.html)."
      ]
    },
    {
      "cell_type": "code",
      "metadata": {
        "id": "YThrMpQ4KyJ6",
        "colab_type": "code",
        "outputId": "ea4063d2-f7f4-40d7-930c-e3d2452fdcf8",
        "colab": {
          "base_uri": "https://localhost:8080/",
          "height": 208
        }
      },
      "source": [
        "# Display calendar of given month of the year\n",
        "\n",
        "# Import the calendar module\n",
        "import calendar\n",
        "\n",
        "# Ask the user for the Month and Year!\n",
        "y = int(input(\"Enter year: \"))\n",
        "m = int(input(\"Enter month: \"))\n",
        "\n",
        "# Display the calendar\n",
        "print(calendar.month(y, m))"
      ],
      "execution_count": 0,
      "outputs": [
        {
          "output_type": "stream",
          "text": [
            "Enter year: 2019\n",
            "Enter month: 9\n",
            "   September 2019\n",
            "Mo Tu We Th Fr Sa Su\n",
            "                   1\n",
            " 2  3  4  5  6  7  8\n",
            " 9 10 11 12 13 14 15\n",
            "16 17 18 19 20 21 22\n",
            "23 24 25 26 27 28 29\n",
            "30\n",
            "\n"
          ],
          "name": "stdout"
        }
      ]
    },
    {
      "cell_type": "markdown",
      "metadata": {
        "id": "tpKeymP340zV",
        "colab_type": "text"
      },
      "source": [
        "Life is very random, and to mimic life situations we need to make our programs react randomly as well! In the following program we make use of a library called **random** to create a random number given a range. If you are interested in this library, you can findout more about it [here](https://docs.python.org/3/library/random.html)."
      ]
    },
    {
      "cell_type": "code",
      "metadata": {
        "id": "28kYDi_94u4r",
        "colab_type": "code",
        "colab": {}
      },
      "source": [
        "# Import the random module\n",
        "import random\n",
        "\n",
        "# remove the comments ask the user for the numbers!\n",
        "#low =  int(input(\"Enter the start of the range:\"))\n",
        "#high = int(input(\"Enter the end of the range: \"))\n",
        "\n",
        "# Display random number (notice this number changes everytime you run the program)\n",
        "print(random.randint(0,1000))"
      ],
      "execution_count": 0,
      "outputs": []
    },
    {
      "cell_type": "markdown",
      "metadata": {
        "id": "g-ny47FvF_5g",
        "colab_type": "text"
      },
      "source": [
        "What if i want to display some cool math functions? Well for that you can use **sympy**! this module can help you create and customize your formulas to display while programming. To learn more about sympy you can click [here](https://docs.sympy.org/latest/tutorial/index.html#tutorial)."
      ]
    },
    {
      "cell_type": "code",
      "metadata": {
        "id": "YxxrusNzHOl0",
        "colab_type": "code",
        "outputId": "81aa974d-3252-4750-8627-dbef713cd2b6",
        "colab": {
          "base_uri": "https://localhost:8080/",
          "height": 89
        }
      },
      "source": [
        "# Import sympy module\n",
        "import sympy\n",
        "from sympy import *\n",
        "\n",
        "# Declare the variables that we will use\n",
        "x,y,z = symbols('x,y,z')\n",
        "\n",
        "\n",
        "# Ignore this, this is just some google colab compatibility stuff.\n",
        "# Only wizards read this\n",
        "def custom_latex_printer(exp,**options):\n",
        "    from google.colab.output._publish import javascript\n",
        "    url = \"https://cdnjs.cloudflare.com/ajax/libs/mathjax/2.7.3/latest.js?config=default\"\n",
        "    javascript(url=url)\n",
        "    return sympy.printing.latex(exp,**options)\n",
        "  \n",
        "# This is the line used to display the content\n",
        "init_printing(use_latex=\"mathjax\",latex_printer=custom_latex_printer)\n",
        "\n",
        "# Function to be displayed\n",
        "Integral(sqrt(1/x)*8, x)"
      ],
      "execution_count": 0,
      "outputs": [
        {
          "output_type": "display_data",
          "data": {
            "text/html": [
              "<script src='https://cdnjs.cloudflare.com/ajax/libs/mathjax/2.7.3/latest.js?config=default'></script>"
            ],
            "text/plain": [
              "<IPython.core.display.HTML object>"
            ]
          },
          "metadata": {
            "tags": []
          }
        },
        {
          "output_type": "execute_result",
          "data": {
            "text/latex": "$$\\int 8 \\sqrt{\\frac{1}{x}}\\, dx$$",
            "text/plain": [
              "⌠             \n",
              "⎮       ___   \n",
              "⎮      ╱ 1    \n",
              "⎮ 8⋅  ╱  ─  dx\n",
              "⎮   ╲╱   x    \n",
              "⌡             "
            ]
          },
          "metadata": {
            "tags": []
          },
          "execution_count": 32
        }
      ]
    },
    {
      "cell_type": "markdown",
      "metadata": {
        "id": "dCXz9bKmMUVT",
        "colab_type": "text"
      },
      "source": [
        "Getting it so far? Awesome! Now that you see the power of python on its own, and with the extension of modules you can realize that your posibilities with it are endless! We are currently using a cloud environment to execute all of our code, and sadly not all modules work here. You can try them on your computer (just take your time installing the necessary files). However we will be focusing out attention into Data Science. \n",
        "\n",
        "# Why Data Science?\n",
        "\n",
        "Data Science is a rapidly growing field, and the demand for [jobs](https://www.hiringlab.org/2019/01/17/data-scientist-job-outlook/) is high. At the end of this course you will be presented with an oportunity to take an online certification from [EDX](https://www.edx.org/course/python-basics-for-data-science-2).\n",
        "\n",
        "Next lesson we will be taking a look at examples of python used for Data Science, and many more applications (might require actual computer installation).\n",
        "\n",
        "# See you next time!"
      ]
    }
  ]
}
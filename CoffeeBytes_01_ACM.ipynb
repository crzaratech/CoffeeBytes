{
  "nbformat": 4,
  "nbformat_minor": 0,
  "metadata": {
    "colab": {
      "name": "CoffeeBytes_01_ACM.ipynb",
      "provenance": [],
      "collapsed_sections": [],
      "include_colab_link": true
    },
    "kernelspec": {
      "name": "python3",
      "display_name": "Python 3"
    }
  },
  "cells": [
    {
      "cell_type": "markdown",
      "metadata": {
        "id": "view-in-github",
        "colab_type": "text"
      },
      "source": [
        "<a href=\"https://colab.research.google.com/github/enrprz/CoffeeBytes/blob/master/CoffeeBytes_01_ACM.ipynb\" target=\"_parent\"><img src=\"https://colab.research.google.com/assets/colab-badge.svg\" alt=\"Open In Colab\"/></a>"
      ]
    },
    {
      "cell_type": "markdown",
      "metadata": {
        "id": "hAKbwBLqwUmR",
        "colab_type": "text"
      },
      "source": [
        "For this first review, we will be going over boolean variables and some simple operations. For all the examples here, feel free to mess around with the code and see which different outputs you can get.\n",
        "\n",
        "### Please remember that all variables defined are global, so altering them later on will affect them at every code block."
      ]
    },
    {
      "cell_type": "code",
      "metadata": {
        "id": "W1nTNmShlLnn",
        "colab_type": "code",
        "colab": {}
      },
      "source": [
        "_a = False\n",
        "_b = True\n",
        "\n",
        "print(_a or _b)\n",
        "print(_a and _b)\n",
        "\n",
        "_a =  not _a\n",
        "print(_a and _b)\n",
        "\n",
        "print(not _a or not _b)\n",
        "\n",
        "# Before you run this, think about which outputs you will get."
      ],
      "execution_count": 0,
      "outputs": []
    },
    {
      "cell_type": "markdown",
      "metadata": {
        "id": "6BJTnF7kmVl6",
        "colab_type": "text"
      },
      "source": [
        "Next we will review integer variables and some simple operations."
      ]
    },
    {
      "cell_type": "code",
      "metadata": {
        "id": "3ckfi0DKmaJy",
        "colab_type": "code",
        "colab": {}
      },
      "source": [
        "_num1 = 1\n",
        "_num2 = 2\n",
        "\n",
        "print(_num1 * _num2)\n",
        "\n",
        "_num1 = _num2 + 4\n",
        "_num2 = _num1 * 2\n",
        "\n",
        "print(_num1)\n",
        "print(_num2)\n",
        "\n",
        "_num1 = 4 / _num2\n",
        "\n",
        "print(_num1)\n"
      ],
      "execution_count": 0,
      "outputs": []
    },
    {
      "cell_type": "markdown",
      "metadata": {
        "id": "B36daFVmnLp5",
        "colab_type": "text"
      },
      "source": [
        "We can also use variables to store characters and strings"
      ]
    },
    {
      "cell_type": "code",
      "metadata": {
        "id": "zR8_uhTOm-7g",
        "colab_type": "code",
        "colab": {}
      },
      "source": [
        "_char1 = 'a'\n",
        "_char2 = 'b'\n",
        "_myString = \"I love python\"\n",
        "print(_char1 + _char2)\n",
        "print(_myString)\n",
        "print(_char1 + 2) # Why does this produce an error?\n"
      ],
      "execution_count": 0,
      "outputs": []
    },
    {
      "cell_type": "markdown",
      "metadata": {
        "id": "XrmGwFJSp1ah",
        "colab_type": "text"
      },
      "source": [
        "Lastly for this review, we'll go over lists."
      ]
    },
    {
      "cell_type": "code",
      "metadata": {
        "id": "jaVayT4Np0aW",
        "colab_type": "code",
        "colab": {}
      },
      "source": [
        "_myList = [0,1,2]\n",
        "print(_myList)\n",
        "\n",
        "_myList.append(3)\n",
        "\n",
        "# Yes, you can have multiple data types in one list!\n",
        "_myList.insert(3, \"I shouldn't belong here\")\n",
        "print(_myList)\n",
        "\n",
        "print(\"_myList is\", len(_myList), \"items long.\\n\")\n",
        "\n",
        "# Print the second item on the list.\n",
        "\n",
        "# Print the last item on the list, should work for any list length."
      ],
      "execution_count": 0,
      "outputs": []
    },
    {
      "cell_type": "markdown",
      "metadata": {
        "id": "4R-oirx1g_lm",
        "colab_type": "text"
      },
      "source": [
        "**Open Ended Problems**"
      ]
    },
    {
      "cell_type": "markdown",
      "metadata": {
        "id": "HJQgs3h0rCQT",
        "colab_type": "text"
      },
      "source": [
        "1) Create a list that holds strings of all North American countries."
      ]
    },
    {
      "cell_type": "markdown",
      "metadata": {
        "id": "wU2tc4OWsBGr",
        "colab_type": "text"
      },
      "source": [
        "2) For each country, append each countries population. ex: \"USA: 327,200,000\", and print the new list/array one by one."
      ]
    },
    {
      "cell_type": "markdown",
      "metadata": {
        "id": "bAtbKq8_hIHE",
        "colab_type": "text"
      },
      "source": [
        "3) Create 3 variables, choose any variable name. One variable should hold a string, the other variable an integer, and the last variable should hold a floating point number."
      ]
    },
    {
      "cell_type": "markdown",
      "metadata": {
        "id": "hX_kX4exhTk_",
        "colab_type": "text"
      },
      "source": [
        "4) Try to add all 3 variables defined above and have it result in a floating point integer."
      ]
    },
    {
      "cell_type": "markdown",
      "metadata": {
        "id": "WncU_qQWnRbX",
        "colab_type": "text"
      },
      "source": [
        "5) Create a string variable containing \"Helo Worl\". Next insert the missing characters into the string. The result should be \"Hello World\". Print the variable for testing."
      ]
    },
    {
      "cell_type": "markdown",
      "metadata": {
        "id": "pKgME94RkKks",
        "colab_type": "text"
      },
      "source": [
        "**Solve each problem below.**"
      ]
    },
    {
      "cell_type": "code",
      "metadata": {
        "id": "rmJjn5yUjQVV",
        "colab_type": "code",
        "colab": {}
      },
      "source": [
        "# Problem 1\n",
        "\n",
        "# Problem 2\n",
        "\n",
        "# Problem 3\n",
        "\n",
        "# Problem 4\n",
        "\n",
        "# Problem 5"
      ],
      "execution_count": 0,
      "outputs": []
    },
    {
      "cell_type": "markdown",
      "metadata": {
        "id": "8GgbR_qrvFW2",
        "colab_type": "text"
      },
      "source": [
        "# Find 33\n",
        "\n",
        "## Given a list of ints, return True if the array contains a 3 next to a 3 somewhere.\n"
      ]
    },
    {
      "cell_type": "code",
      "metadata": {
        "id": "fGI2zFN8vNY4",
        "colab_type": "code",
        "colab": {}
      },
      "source": [
        "has_33([1, 3, 3]) → True\n",
        "has_33([1, 3, 1, 3]) → False\n",
        "has_33([3, 1, 3]) → False"
      ],
      "execution_count": 0,
      "outputs": []
    },
    {
      "cell_type": "markdown",
      "metadata": {
        "id": "1OcJkhu9vR-c",
        "colab_type": "text"
      },
      "source": [
        "## Solution: "
      ]
    },
    {
      "cell_type": "code",
      "metadata": {
        "id": "pn1UDo3-vQOM",
        "colab_type": "code",
        "colab": {}
      },
      "source": [
        "def has_33(nums):\n",
        "    for i, x in enumerate(nums):\n",
        "        if x == 3:\n",
        "            #Check if index at end of list        \n",
        "            if i == len(nums) - 1: return False\n",
        "            elif nums[i + 1] == 3: return True"
      ],
      "execution_count": 0,
      "outputs": []
    },
    {
      "cell_type": "code",
      "metadata": {
        "id": "_1d0QBMqvbMf",
        "colab_type": "code",
        "colab": {
          "base_uri": "https://localhost:8080/",
          "height": 34
        },
        "outputId": "5e2c0226-0034-4040-a902-553677cc5e68"
      },
      "source": [
        "has_33([1, 3, 3])"
      ],
      "execution_count": 3,
      "outputs": [
        {
          "output_type": "execute_result",
          "data": {
            "text/plain": [
              "True"
            ]
          },
          "metadata": {
            "tags": []
          },
          "execution_count": 3
        }
      ]
    }
  ]
}
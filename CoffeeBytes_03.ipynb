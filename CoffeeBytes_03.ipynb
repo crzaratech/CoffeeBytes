{
  "nbformat": 4,
  "nbformat_minor": 0,
  "metadata": {
    "colab": {
      "name": "CoffeeBytes_03.ipynb",
      "version": "0.3.2",
      "provenance": [],
      "collapsed_sections": [],
      "include_colab_link": true
    },
    "kernelspec": {
      "name": "python3",
      "display_name": "Python 3"
    }
  },
  "cells": [
    {
      "cell_type": "markdown",
      "metadata": {
        "id": "view-in-github",
        "colab_type": "text"
      },
      "source": [
        "<a href=\"https://colab.research.google.com/github/enrprz/CoffeeBytes/blob/master/CoffeeBytes_03.ipynb\" target=\"_parent\"><img src=\"https://colab.research.google.com/assets/colab-badge.svg\" alt=\"Open In Colab\"/></a>"
      ]
    },
    {
      "cell_type": "markdown",
      "metadata": {
        "id": "IUI5xdUXI0RM",
        "colab_type": "text"
      },
      "source": [
        "#Week 3: Operators && Loops\n",
        "\n",
        "Hello and welcome to the third part of the coding series. At the end of this lesson you should be able to: \n",
        "\n",
        "\n",
        "*   Do math functions.\n",
        "*   Get familiar with loops.\n",
        "*   Get more comfortable with Conditional Statements.\n",
        "* Read more technical terms.\n",
        "\n",
        "Remember if you have any problems or questions do not hesitate to ask the instructor ([Enrique](https://www.instagram.com/01000101.sh/?hl=en)) or to ask the hacker community on the SHPE Discord."
      ]
    },
    {
      "cell_type": "markdown",
      "metadata": {
        "id": "DwZGHcrCJg6z",
        "colab_type": "text"
      },
      "source": [
        "# Math Stuff:\n",
        "\n",
        "Hey there! Its not a secret that computers are very smart, but they are only as smart as the programmers who made them. Today we will take a quick look at the basic ways that you can apply math into your code, and some interesing cases where you can use them. The typical operators (special characters that do stuff) are:\n",
        "\n",
        "* Addition (+)\n",
        "* Substraction (-)\n",
        "* Multiplication (*)\n",
        "* Division (/)\n",
        "* Modulo (%) Yes, this one also works with math, and not just strings."
      ]
    },
    {
      "cell_type": "code",
      "metadata": {
        "id": "ePyRIb4qIwFn",
        "colab_type": "code",
        "colab": {}
      },
      "source": [
        "# Addition of 2 numbers\n",
        "\n",
        "number = 2 + 3\n",
        "print(number)"
      ],
      "execution_count": 0,
      "outputs": []
    },
    {
      "cell_type": "code",
      "metadata": {
        "id": "J5S7AqD5LBZt",
        "colab_type": "code",
        "colab": {}
      },
      "source": [
        "# Substraction of 2 numbers\n",
        "\n",
        "number = 6 - 1\n",
        "print(number)"
      ],
      "execution_count": 0,
      "outputs": []
    },
    {
      "cell_type": "code",
      "metadata": {
        "id": "nmEiWahHLKmO",
        "colab_type": "code",
        "colab": {}
      },
      "source": [
        "# Multiplication of 2 numbers\n",
        "\n",
        "number = 2 * 2\n",
        "print(number)"
      ],
      "execution_count": 0,
      "outputs": []
    },
    {
      "cell_type": "code",
      "metadata": {
        "id": "yGGxvnVxLRYg",
        "colab_type": "code",
        "colab": {}
      },
      "source": [
        "# Division of 2 numbers\n",
        "\n",
        "number = 7 / 2\n",
        "print(number)"
      ],
      "execution_count": 0,
      "outputs": []
    },
    {
      "cell_type": "code",
      "metadata": {
        "id": "42SHorBdLiw1",
        "colab_type": "code",
        "colab": {}
      },
      "source": [
        "# Remainder of an operation\n",
        "\n",
        "number = 7 % 2\n",
        "print(number)\n",
        "\n",
        "# People have a hard time understanding the modulo, but is\n",
        "# just like in math. We look at what was LEFT from the DIVISION \n",
        "# before the use of decimals after the point."
      ],
      "execution_count": 0,
      "outputs": []
    },
    {
      "cell_type": "code",
      "metadata": {
        "id": "EwvPph14N1SB",
        "colab_type": "code",
        "colab": {}
      },
      "source": [
        "# BEFORE executing this code, what would the output be?\n",
        "\n",
        "number = 2 + 1 * 8 / 3.0\n",
        "print(number)"
      ],
      "execution_count": 0,
      "outputs": []
    },
    {
      "cell_type": "markdown",
      "metadata": {
        "id": "LXzJGCXeNjow",
        "colab_type": "text"
      },
      "source": [
        "Easy piecy right? you got this figured out, python also uses **PEMDAS** for the order of operations. \n",
        "\n",
        "Now i know what you're thinking, how useful is python if the operations are just like from a simple calculator. Well, there are a lot of math functions inside python, too many that we don't have to review them all (you can do that [here](https://docs.python.org/3/library/math.html) ) on your free time. But we will go to some of the most used ones, and a couple tricks too:"
      ]
    },
    {
      "cell_type": "code",
      "metadata": {
        "id": "FsgLBe-Qhsqc",
        "colab_type": "code",
        "colab": {}
      },
      "source": [
        "# Compare when a number is equal to a value\n",
        "\n",
        "x = 2\n",
        "if x == 2:\n",
        "   print(\"they are equal\")"
      ],
      "execution_count": 0,
      "outputs": []
    },
    {
      "cell_type": "code",
      "metadata": {
        "id": "Zf-zbGXuiBNx",
        "colab_type": "code",
        "colab": {}
      },
      "source": [
        "# Compare when a number is NOT equal to a value\n",
        "\n",
        "x = 1\n",
        "if x != 2:\n",
        "  print(\"They are not equal\")"
      ],
      "execution_count": 0,
      "outputs": []
    },
    {
      "cell_type": "code",
      "metadata": {
        "id": "36lS0W7yjIeG",
        "colab_type": "code",
        "colab": {}
      },
      "source": [
        "# More than\n",
        "\n",
        "x == 1\n",
        "if x > 0:\n",
        "  print(\"IT is\")"
      ],
      "execution_count": 0,
      "outputs": []
    },
    {
      "cell_type": "code",
      "metadata": {
        "id": "o7PV8uP6jY5f",
        "colab_type": "code",
        "colab": {}
      },
      "source": [
        "# Less than\n",
        "\n",
        "x == 1\n",
        "if x < 0:\n",
        "  print(\"IT is not\") # Will not execute (because its false)"
      ],
      "execution_count": 0,
      "outputs": []
    },
    {
      "cell_type": "code",
      "metadata": {
        "id": "FeELftg0PXob",
        "colab_type": "code",
        "colab": {}
      },
      "source": [
        "# If you wanna raise a number to a power (power relationship)\n",
        "# we use two '**'\n",
        "\n",
        "squared_number = 6 ** 2\n",
        "cubed = 6 ** 3\n",
        "\n",
        "print(squared_number)\n",
        "print(cubed)"
      ],
      "execution_count": 0,
      "outputs": []
    },
    {
      "cell_type": "code",
      "metadata": {
        "id": "oTZC7VUVQjwC",
        "colab_type": "code",
        "colab": {}
      },
      "source": [
        "# You can also use math operators in other stuff, such as strings!\n",
        "\n",
        "sentence = \"Hello\" + \" World!\"\n",
        "print(sentence)"
      ],
      "execution_count": 0,
      "outputs": []
    },
    {
      "cell_type": "code",
      "metadata": {
        "id": "JqMJlkYKRGxJ",
        "colab_type": "code",
        "colab": {}
      },
      "source": [
        "# Feel like bart simpson? Work smart, not hard\n",
        "\n",
        "word = \"I love CoffeeBytes \" * 10\n",
        "print(word)"
      ],
      "execution_count": 0,
      "outputs": []
    },
    {
      "cell_type": "markdown",
      "metadata": {
        "id": "v8LPabi3R14a",
        "colab_type": "text"
      },
      "source": [
        "Lets build up from what we know from lesson 1 and 2. This will sound more technical, but don't worry, just follow along:"
      ]
    },
    {
      "cell_type": "code",
      "metadata": {
        "id": "fO8dafLwRvRG",
        "colab_type": "code",
        "colab": {}
      },
      "source": [
        "# Create a program that gets the cubed of a number\n",
        "# IF the answer is 125, display that number\n",
        "# ELSE display an error\n",
        "\n",
        "number = 5\n",
        "cube = number ** 3\n",
        "\n",
        "if cube == 125:\n",
        "  print(\"%d cubed is 125.\" % number)\n",
        "else:\n",
        "  print(\"%d cubed is not 125.\" % number)"
      ],
      "execution_count": 0,
      "outputs": []
    },
    {
      "cell_type": "markdown",
      "metadata": {
        "id": "42zZJrjfUjpR",
        "colab_type": "text"
      },
      "source": [
        "We did it! We combined everything that we've seen so far to create this little program. Now do you see a problem with it? Lets say you were to use this in the real world, would it work for any **number**? what if the value we are looking for  is not **125**? what if we want the user to change the values **instead** of us? Lets re-write this program to take care of these issues:"
      ]
    },
    {
      "cell_type": "code",
      "metadata": {
        "id": "1-J-glkEVYVb",
        "colab_type": "code",
        "colab": {}
      },
      "source": [
        "# Same instructions as before, but instead of US choosing the number. Lets ask the user\n",
        "\n",
        "number = int(input(\"Please enter a number: \"))\n",
        "cube = number ** 3\n",
        "\n",
        "if cube == 125:\n",
        "  print(\"%d cubed is 125.\" % number)\n",
        "else:\n",
        "  print(\"%d cubed is not 125.\" % number)"
      ],
      "execution_count": 0,
      "outputs": []
    },
    {
      "cell_type": "markdown",
      "metadata": {
        "id": "fN9SCy_dWyp8",
        "colab_type": "text"
      },
      "source": [
        "Hurray, this little change makes our code more flexible to changes. But lets take a look at this line of code and break it down to understand what it does:\n",
        "\n",
        "\n",
        "```\n",
        "number = int(input(\"Please enter a number: \"))\n",
        "```\n",
        "\n",
        "Here we start declaring a **variable** called '**number**', the number we are assigning is an **integer**, the number is also an **input**, and then some text to direct the **user**. Not bad, but what if the number the user gives us is not an integer? Here we start looking at those small but very important parts of programming. We have to specify in the program when we want a whole number, or a floating point number or a complex number, as our program might depend a lot on the results of those calculations like DNA research, Space orbits, AI, etc. "
      ]
    },
    {
      "cell_type": "markdown",
      "metadata": {
        "id": "K_cgVPViaDh4",
        "colab_type": "text"
      },
      "source": [
        "# Loops:\n",
        "\n",
        "Repetition doesn't have to be tedious, specially when you are coding a big program. Thats why in computer science we use loops. These are self explanatory, they make us do multiple runs of the same code but in a way we can control it. There are a couple types of loops:\n",
        "\n",
        "* FOR loops\n",
        "* WHILE loops\n",
        "* NESTED loops\n",
        "\n",
        "And they have their strenghs, and weaknesses. Lets try to use them on the same program we just did:\n",
        "\n"
      ]
    },
    {
      "cell_type": "code",
      "metadata": {
        "id": "9TFCuB9Qa4n5",
        "colab_type": "code",
        "colab": {}
      },
      "source": [
        "# Lets use a FOR loop to print 5 numbers\n",
        "# here we create a list with numbers 1-5\n",
        "# we declare an empty variable to serve as index \n",
        "# and then we print that variable\n",
        "\n",
        "numbers = [1,2,3,4,5]\n",
        "\n",
        "for x in numbers:\n",
        "  print(x)"
      ],
      "execution_count": 0,
      "outputs": []
    },
    {
      "cell_type": "code",
      "metadata": {
        "id": "lJovS1k1hMKY",
        "colab_type": "code",
        "colab": {}
      },
      "source": [
        "# WHILE loop to print the same number 5 times\n",
        "# we are gonna count from 0\n",
        "\n",
        "count = 0\n",
        "\n",
        "while count < 5:\n",
        "  print(count)\n",
        "  count = count + 1 # here we ADD 1 to the number that was already there"
      ],
      "execution_count": 0,
      "outputs": []
    },
    {
      "cell_type": "code",
      "metadata": {
        "id": "UromJXotoPPt",
        "colab_type": "code",
        "colab": {}
      },
      "source": [
        "# FOR loop and IF statement to check if a number is even or odd\n",
        "# we display only odds\n",
        "\n",
        "for x in range(10):\n",
        "    # Check if x is even\n",
        "    if x % 2 == 0:\n",
        "        continue\n",
        "    print(x)"
      ],
      "execution_count": 0,
      "outputs": []
    },
    {
      "cell_type": "markdown",
      "metadata": {
        "id": "9EZfjG9HT6B6",
        "colab_type": "text"
      },
      "source": [
        "On that last example we say a new keyword '**continue**'. This new keyword along with '**break**' will help us control our loops even more. Every statement turns out to be **True** or **False**. Therefore, an action is **required** after them. If you look back at our first IF, ELSE statments they all had an action right after them. Also, in the new introduced loops, there is always something happening after them. So what do we do with actions like in the previous example? we wanted to know which were the **even** numbers, so we can '**skip**' them, and only display the **odds**."
      ]
    },
    {
      "cell_type": "markdown",
      "metadata": {
        "id": "jf11ZL7PVruz",
        "colab_type": "text"
      },
      "source": [
        "# Mini quiz 02:\n",
        "\n",
        "Assume that you are working at a school, and the dean wants you to make a simple program in python to display how many A, B, C, D, and F students in a class ( A = 90 -100, B = 80-89, C = 70-79, D = 60-69, F = 0 - 59). The grades will be provided, but is up to you to figure out how to show them on the screen. Are you ready? as an extra touch you could also format the text to include the average for the classroom (optional):"
      ]
    },
    {
      "cell_type": "code",
      "metadata": {
        "id": "lrXIJvMdXdbi",
        "colab_type": "code",
        "outputId": "1d9a1261-0a94-49b6-c4a2-974a2892eef2",
        "colab": {
          "base_uri": "https://localhost:8080/",
          "height": 133
        }
      },
      "source": [
        "# Name of the program: Grade Calculator\n",
        "\n",
        "# Declare the variables needed for the program\n",
        "grades = [99, 87, 52, 67, 70, 89, 100, 20, 74]\n",
        "\n",
        "A_count = 0\n",
        "B_count = 0\n",
        "C_count = 0\n",
        "D_count = 0\n",
        "F_count = 0\n",
        "\n",
        "# Do the calculations\n",
        "for  in :\n",
        "  if  >= 90:\n",
        "     += 1\n",
        "  elif  >= 80:\n",
        "     += 1\n",
        "  elif  >= 70:\n",
        "     += 1\n",
        "  elif  >= 60:\n",
        "     += 1\n",
        "  :\n",
        "     += 1\n",
        "\n",
        "\n",
        "  \n",
        "# Display to the screen\n",
        "print(\"---------------------------\")\n",
        "print(\"There are %d A students.\" % A_count)\n",
        "print(\"There are %d B students.\" % B_count)\n",
        "print(\"There are %d C students.\" % C_count)\n",
        "print(\"There are %d D students.\" % D_count)\n",
        "print(\"There are %d F students.\" % F_count)\n",
        "\n",
        "# Optional: Display the average grade for the class\n"
      ],
      "execution_count": 0,
      "outputs": [
        {
          "output_type": "stream",
          "text": [
            "---------------------------\n",
            "There are 2 A students.\n",
            "There are 2 B students.\n",
            "There are 2 C students.\n",
            "There are 1 D students.\n",
            "There are 2 F students.\n",
            "The class average is: 73.11\n"
          ],
          "name": "stdout"
        }
      ]
    },
    {
      "cell_type": "markdown",
      "metadata": {
        "id": "kxYK8Z-r_Vjz",
        "colab_type": "text"
      },
      "source": [
        "This lessons will only get better, less theory, and more practice! Stay tuned for the following lesson where we finally start using FUNCTIONS 🤓.  Remember the Discord section for CoffeeBytes is always open to questions. \n",
        "\n",
        "# See you next time!"
      ]
    }
  ]
}
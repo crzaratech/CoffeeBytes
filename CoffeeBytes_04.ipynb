{
  "nbformat": 4,
  "nbformat_minor": 0,
  "metadata": {
    "colab": {
      "name": "CoffeeBytes_04.ipynb",
      "version": "0.3.2",
      "provenance": [],
      "collapsed_sections": [],
      "include_colab_link": true
    },
    "kernelspec": {
      "name": "python3",
      "display_name": "Python 3"
    }
  },
  "cells": [
    {
      "cell_type": "markdown",
      "metadata": {
        "id": "view-in-github",
        "colab_type": "text"
      },
      "source": [
        "<a href=\"https://colab.research.google.com/github/enrprz/CoffeeBytes/blob/master/CoffeeBytes_04.ipynb\" target=\"_parent\"><img src=\"https://colab.research.google.com/assets/colab-badge.svg\" alt=\"Open In Colab\"/></a>"
      ]
    },
    {
      "cell_type": "markdown",
      "metadata": {
        "id": "ViTiQqdpAEel",
        "colab_type": "text"
      },
      "source": [
        "#Week 4: Functions\n",
        "\n",
        "Hello and welcome to the 4th part of the coding series. At the end of this lesson you should be able to: \n",
        "\n",
        "\n",
        "*   Learn about Functions.\n",
        "*   Write your own Functions. \n",
        "*   Practice using Functions with previous lessons.\n",
        "*   Read more technical terms.\n",
        "\n",
        "Remember if you have any problems or questions do not hesitate to ask the instructor ([Enrique](https://www.instagram.com/01000101.sh/?hl=en)) or to ask the hacker community on the SHPE Discord."
      ]
    },
    {
      "cell_type": "markdown",
      "metadata": {
        "id": "z9FzQMUYAgGt",
        "colab_type": "text"
      },
      "source": [
        "# Functions:\n",
        "\n",
        "By now you should have a solid understanding of what is used on a typical program (Variables, Conditional Statements, and Loops). But wait, there's more! IF you recall what we covered in the first lesson (week 1) we mentioned that the way we display to the screen '**Print**' is a function! We also mentioned that there are several of these on the python [standard libraries](https://docs.python.org/3/library/functions.html). But what if, there's no function for what i want to do? What if the function doesn't quite do what i need for a program? Well, in that case, we build our own functions! Don't worry, it's easier than it sounds. Lets look at the following example:"
      ]
    },
    {
      "cell_type": "code",
      "metadata": {
        "id": "YBr2hQlgAAbn",
        "colab_type": "code",
        "colab": {}
      },
      "source": [
        "# Lets add 2 numbers and show the result on the screen\n",
        "mySum = 2 + 3\n",
        "print(mySum)\n",
        "\n",
        "# Lets add 2 numbers but with variables\n",
        "num1 = 2\n",
        "num2 = 3\n",
        "\n",
        "sum1 = num1 + num2\n",
        "print(sum1)"
      ],
      "execution_count": 0,
      "outputs": []
    },
    {
      "cell_type": "markdown",
      "metadata": {
        "id": "oN6MUlUnEdl3",
        "colab_type": "text"
      },
      "source": [
        "Same thing right? Well these methods might be good for now, but what if we need to add different numbers, in different parts of the program, with different variables? Here is where **functions** can be very useful to use the same piece of code, and **call** it whenever we need to on a program. Lets do the same thing as the previous code but with a function:"
      ]
    },
    {
      "cell_type": "code",
      "metadata": {
        "id": "0ffIAaEwFEfE",
        "colab_type": "code",
        "colab": {}
      },
      "source": [
        "# Declare 2 variables and assign a number to them\n",
        "\n",
        "x = 2\n",
        "y = 3\n",
        "\n",
        "# Here we create a function that will take 2 numbers and return a sum\n",
        "\n",
        "def mySum(num1, num2):\n",
        "  return num1 + num2\n",
        "\n",
        "# Here we make USE of the function we just coded\n",
        "# we tell the 'mySum' function what values we want to use\n",
        "# and we put that result inside the print function to display\n",
        "\n",
        "print(mySum(x,y))"
      ],
      "execution_count": 0,
      "outputs": []
    },
    {
      "cell_type": "markdown",
      "metadata": {
        "id": "l_XJ03tzG7pO",
        "colab_type": "text"
      },
      "source": [
        "Lets break down the structure of our Function:\n",
        "\n",
        "```\n",
        "def name_of_function(parameters):\n",
        "          action01\n",
        "          action02\n",
        "          ..\n",
        "```\n",
        "We first **define** the name of our function, then we tell it what **inputs**(called parameters) it can use to work with (this can be variables, files, other functions, etc.), lastly we code the actions that the function will do( this can be anything, display to the screen, do math, open libraries, etc).\n",
        "Simple right? Name > inputs > actions. Lets look at another example:\n"
      ]
    },
    {
      "cell_type": "code",
      "metadata": {
        "id": "PdE7Yb-nIhH-",
        "colab_type": "code",
        "colab": {}
      },
      "source": [
        "# You are coding a program to tell students whether they passed or failed an exam\n",
        "# we will consider 60 and up a passing grade:\n",
        "\n",
        "# 1) We first declare the function that we will need\n",
        "def passing(grade):\n",
        "  if grade >= 60:\n",
        "    print(\"You passed!\")\n",
        "  else:\n",
        "    print(\"You didn't pass.\")\n",
        "\n",
        "# 2) Ask the student for their score\n",
        "number = int(input(\"Please enter your score[0-100]: \"))\n",
        "\n",
        "# 3) Here we CALL the function, and pass 'number' as the input to work with\n",
        "passing(number)\n"
      ],
      "execution_count": 0,
      "outputs": []
    },
    {
      "cell_type": "markdown",
      "metadata": {
        "id": "clVOpe-ZLFic",
        "colab_type": "text"
      },
      "source": [
        "Coding a functions gives us the liberty to use it only whenever we need it. This could be multiple times in different parts of the program. Lets try to find a scenario where we can re-use this function multiple times:"
      ]
    },
    {
      "cell_type": "code",
      "metadata": {
        "id": "J_7ysN0aN6nr",
        "colab_type": "code",
        "colab": {}
      },
      "source": [
        "# You are coding a program that takes 5 grades, and tells the student if\n",
        "# they passed or not. Passing is 60 and above.\n",
        "\n",
        "# 1) We first declare the function that we will need\n",
        "def passing(grade):\n",
        "  if grade >= 60:\n",
        "    print(\"You passed!\")\n",
        "  else:\n",
        "    print(\"You didn't pass.\")\n",
        "\n",
        "# 2) Ask the student for their score (5 times) we can use a loop\n",
        "for x in range(5):\n",
        "  number = int(input(\"Please enter your score[0-100]: \"))\n",
        "  \n",
        "  # 3) Here we CALL the function INSIDE the loop to do it 5 times!\n",
        "  passing(number)\n",
        "\n"
      ],
      "execution_count": 0,
      "outputs": []
    },
    {
      "cell_type": "markdown",
      "metadata": {
        "id": "QBp54gv4Om1L",
        "colab_type": "text"
      },
      "source": [
        "Wasn't that fun?!?! We made use of a newly learned skill (functions), and we combined it with previous lessons (loops, conditional statements, variables, and operations). You're getting good at this 👨🏻‍💻👩🏻‍💻. There are a couple other things that you can do with functions, like '**recursion**'. This is a concept that might be weird to understand at the beginning, but so powerful that it can't be ignored. \n",
        "\n",
        "*  \"*Recursion occurs when a thing is defined in terms of itself or of its type.*\"\n",
        "\n",
        "We are going to use a MATH example (it was inevitable, please don't hate me) on **factorials**. How do you find the factorial of a number? Say we are trying to look for factorial of 5. Well, you first have to know what is factorial of 4 isn't it? and to know factorial of 4 you first have to know what the factorial of 3 is...you get where this is going? This will basically tell our function that if it doesn't know the answer, it needs to check **itself** again, and looks something like [this](https://he-s3.s3.amazonaws.com/media/uploads/0e2df2e.png). Weird...lets look at an example:"
      ]
    },
    {
      "cell_type": "code",
      "metadata": {
        "id": "KEa73OILU4N7",
        "colab_type": "code",
        "colab": {}
      },
      "source": [
        "# Define a function to look for factorial of any number\n",
        "# It might be useful to check online for the formula of factorials\n",
        "\n",
        "def factorial(n):\n",
        "    # Base case: 1! = 1\n",
        "    if n == 1:\n",
        "        return 1\n",
        "\n",
        "    # Recursive case: n! = n * (n-1)!\n",
        "    else:\n",
        "        return n * factorial(n-1)\n",
        "      \n",
        "# Lets look for factorial of 5, or change the number to another one!\n",
        "factorial(5)"
      ],
      "execution_count": 0,
      "outputs": []
    },
    {
      "cell_type": "markdown",
      "metadata": {
        "id": "uq4SWDI3VvRR",
        "colab_type": "text"
      },
      "source": [
        "Awesome 🎉 now that you know more less (hopefully more) on what on earth is **recursion** we can tackle on how to do the fibonacci sequence. Yes, that beautiful sequence of numbers that creates astonishing patterns in real life, and in math. The formula goes as follows:\n",
        "\n",
        "* F(0) = 0, F(1) = 1\n",
        "\n",
        "       And when n > 1\n",
        "* F(n) = F(n-1) + F(n-2)\n",
        "\n",
        "That looks tough, lets do it together:"
      ]
    },
    {
      "cell_type": "code",
      "metadata": {
        "id": "8O5aros6WphK",
        "colab_type": "code",
        "colab": {}
      },
      "source": [
        "# Using the folmulas above, create a program\n",
        "# that displays the fibonacci sequence using recursion\n",
        "\n",
        "def fibonacci(n):\n",
        "  # Base case: fib(0) = 0\n",
        "  if n == 0:\n",
        "    return 0\n",
        "  \n",
        "  # 2nd case: fib(1) = 1\n",
        "  elif n == 1:\n",
        "    return 1\n",
        "  \n",
        "  # Recursive case: fib(n) = fib(n-1) + fib(n-2)\n",
        "  else:\n",
        "    return fibonacci(n-1) + fibonacci(n-2)\n",
        "\n",
        "# Lets test it, we will declare a variable 'n' so that we can loop\n",
        "# and we will decrease by 1 in the next run (fib of 10, fib of 9, fib of 8...)\n",
        "n = 10\n",
        "for x in range(n):\n",
        "  print(fibonacci(n))\n",
        "  n = n-1"
      ],
      "execution_count": 0,
      "outputs": []
    },
    {
      "cell_type": "markdown",
      "metadata": {
        "id": "Tj4BJt27gR6k",
        "colab_type": "text"
      },
      "source": [
        "Give youself a hi-five because you just went thru one of the most difficult concepts to grasp for new programmers. When doing recursion just keep in mind that you need to be very specific on how they are executed. Otherwise, you will get stuck on a loop forever! 😓. But fear not, all it takes is some practice. This section will be shorter than others, for the whole purpose of playing more with functions, and other useful skills that we have so far. Do you have a formula or program in mind that you would like to try? Here, test yourself:"
      ]
    },
    {
      "cell_type": "code",
      "metadata": {
        "id": "VrjKz96FhEka",
        "colab_type": "code",
        "colab": {}
      },
      "source": [
        "# RESERVED FOR IN CLASS PRACTICE\n",
        "\n",
        "\n",
        "\n",
        "\n"
      ],
      "execution_count": 0,
      "outputs": []
    },
    {
      "cell_type": "code",
      "metadata": {
        "id": "OdTMwq54hIfe",
        "colab_type": "code",
        "colab": {}
      },
      "source": [
        "# RESERVED FOR IN CLASS PRACTICE\n",
        "\n",
        "\n",
        "\n",
        "\n"
      ],
      "execution_count": 0,
      "outputs": []
    },
    {
      "cell_type": "markdown",
      "metadata": {
        "id": "LQJfclX-hOHp",
        "colab_type": "text"
      },
      "source": [
        "I hope this section was very interesting to you as it was for me. I wished someone explained to me these concepts in simple, byte-sized execises. Stay tuned for the following lesson where we finally start using **Classes**, and **Objects** 🤓. Remember the Discord section for CoffeeBytes is always open to questions.\n",
        "\n",
        "# See you next time!\n",
        "\n"
      ]
    }
  ]
}
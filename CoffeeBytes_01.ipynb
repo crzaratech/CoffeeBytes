{
  "nbformat": 4,
  "nbformat_minor": 0,
  "metadata": {
    "colab": {
      "name": "CoffeeBytes_01.ipynb",
      "version": "0.3.2",
      "provenance": [],
      "collapsed_sections": [],
      "include_colab_link": true
    },
    "kernelspec": {
      "name": "python3",
      "display_name": "Python 3"
    }
  },
  "cells": [
    {
      "cell_type": "markdown",
      "metadata": {
        "id": "view-in-github",
        "colab_type": "text"
      },
      "source": [
        "<a href=\"https://colab.research.google.com/github/enrprz/CoffeeBytes/blob/master/CoffeeBytes_01.ipynb\" target=\"_parent\"><img src=\"https://colab.research.google.com/assets/colab-badge.svg\" alt=\"Open In Colab\"/></a>"
      ]
    },
    {
      "cell_type": "markdown",
      "metadata": {
        "id": "IdIEuPRTTk_S",
        "colab_type": "text"
      },
      "source": [
        "# Week 1: Hello World! && Variables\n",
        "\n",
        "Hello and welcome to the first part of the coding series. At the end of this lesson you should be able to:\n",
        "\n",
        "1.   **Read** basic python code.\n",
        "2.   **Write** basic python code\n",
        "3.   Identify common **data types**."
      ]
    },
    {
      "cell_type": "markdown",
      "metadata": {
        "colab_type": "text",
        "id": "6rErxN5Jslvh"
      },
      "source": [
        "\n",
        "\n",
        " # Coding with Python:\n",
        " \n",
        " Python is one of the most popular programming languages to get started with, and it's also very powerful. For our purposes we will be coding on **Python 3** since python 2 will be deprecated by Jan 1st 2020. Most of the syntax that you will see here is very easy to understand, but if you have any problems or questions do not hesitate to ask the instructor ([Enrique](https://www.instagram.com/01000101.sh/?hl=en)) or to ask the coding community on the SHPE Discord."
      ]
    },
    {
      "cell_type": "markdown",
      "metadata": {
        "id": "J8-KlkNnXu3R",
        "colab_type": "text"
      },
      "source": [
        "You might want to make a copy of this noPress the play button (and enable playground mode) to the left of the code so you can see the output!"
      ]
    },
    {
      "cell_type": "code",
      "metadata": {
        "id": "q4tWmDOHXlBw",
        "colab_type": "code",
        "colab": {}
      },
      "source": [
        "print(\"Hello World!\")"
      ],
      "execution_count": 0,
      "outputs": []
    },
    {
      "cell_type": "markdown",
      "metadata": {
        "id": "G2Ff9FLkXtda",
        "colab_type": "text"
      },
      "source": [
        "What you just saw is a 'Function' of python called **print** and a 'string' of some text inside of it. \n",
        "\n",
        "*   A **STRING** is a a linear sequence of characters, words, or other data. \n",
        "*   A **FUNCTION** is a block of organized, reusable code that is used to perform a single, related action.\n",
        "\n",
        "You can modify the text inside of the function to say whatever you want. Here, try it:\n",
        "\n"
      ]
    },
    {
      "cell_type": "code",
      "metadata": {
        "id": "s9ECNvHLYbsw",
        "colab_type": "code",
        "colab": {}
      },
      "source": [
        "print(\"Vaquero\")"
      ],
      "execution_count": 0,
      "outputs": []
    },
    {
      "cell_type": "markdown",
      "metadata": {
        "id": "iEni75BdYvBX",
        "colab_type": "text"
      },
      "source": [
        "Did it work? Congratulations you just typed your first line of code!!! 🎉👏🏻\n",
        "\n",
        "Unlike other languages, python **does not** use any sort of syntax to close coding lines. To compensate for this it uses **indentation** to understand the blocks of code.\n",
        "Here is an example of a block of code being executed:"
      ]
    },
    {
      "cell_type": "code",
      "metadata": {
        "id": "7xaQr4_ZcMcI",
        "colab_type": "code",
        "colab": {}
      },
      "source": [
        "# A function inside an IF statement\n",
        "\n",
        "myString = \"Hello\"\n",
        "if myString == \"Hello\":\n",
        "  print(\"It worked!\")"
      ],
      "execution_count": 0,
      "outputs": []
    },
    {
      "cell_type": "markdown",
      "metadata": {
        "id": "-f9En3ZNEwrB",
        "colab_type": "text"
      },
      "source": [
        "# Variables \n",
        "\n",
        "What you saw in the previous lines of code was the use of variables. Think of **variables** as boxes where you can hold things, and 'label' them for easy finding. In this case we were able to define a **string** with some text, and an **integer** with a number (more on that in a moment). You can asign values to variables in a couple different ways just as shown below:\n"
      ]
    },
    {
      "cell_type": "code",
      "metadata": {
        "id": "Ah0-RhNUMqxp",
        "colab_type": "code",
        "outputId": "acea10e2-6adf-4bbf-d4a1-5677ce293061",
        "colab": {
          "base_uri": "https://localhost:8080/",
          "height": 108
        }
      },
      "source": [
        "# PRO TIP: if you write anything after a hashtag python doesn't run it.\n",
        "# And this is how we use comments!!!\n",
        "# Strings using double or single quotes. If you use double quotes you won't have problems using apostrophes on your text. 🤓\n",
        "\n",
        "myString01 = \"Hello\"\n",
        "myString02 = 'Hello'\n",
        "\n",
        "# Multiple assignments\n",
        "name, lastname = \"John\",\"Doe\"\n",
        "x,y = 1,2\n",
        "\n",
        "# Output\n",
        "print(myString01)\n",
        "print(myString02)\n",
        "print(name + \" \" + lastname)\n",
        "print(x,y)"
      ],
      "execution_count": 0,
      "outputs": [
        {
          "output_type": "stream",
          "text": [
            "Hello\n",
            "Hello\n",
            "John Doe\n",
            "1 2\n"
          ],
          "name": "stdout"
        }
      ]
    },
    {
      "cell_type": "markdown",
      "metadata": {
        "id": "-JCUEjedObA4",
        "colab_type": "text"
      },
      "source": [
        "# Data Types\n",
        "\n",
        "Just like in math, there are different ways of representing numbers in programming. Some of the most common ones are:\n",
        "\n",
        "1.   **Integers**: These are your typical whole numbers (1, 9, 38790).\n",
        "\n",
        "2.   **Floating Point**: These are the ones with more acuracy (3.14, 8.000015).\n",
        "\n",
        "1.   **Boolean**: This data type consist of 'True' and 'False' (Sometimes 0 or 1). \n",
        "\n",
        "2.   **List items**: These are like a big string with multiple strings inside [\"Apple\", \"Orange\", \"Pear\"].\n",
        "\n",
        "1.   **Sets**: Just like in math or statistics you can create your set of numbers like so {0,1,2,3}.\n"
      ]
    },
    {
      "cell_type": "markdown",
      "metadata": {
        "id": "ZNYZ6dQUzNGH",
        "colab_type": "text"
      },
      "source": [
        "# **Mini Demo:** \n",
        " In the box below, complete the code so the output can display **Hello CoffeeBytes**, another output to display an **integer**, and another one to display a **floating point** number:"
      ]
    },
    {
      "cell_type": "code",
      "metadata": {
        "id": "2ifiN-fFz8aA",
        "colab_type": "code",
        "colab": {}
      },
      "source": [
        "# Complete the code\n",
        "\n",
        "myString = \"\"\n",
        "myInt = \n",
        "myFloat = \n",
        "\n",
        "print(myString)\n",
        "print(myInt)\n",
        "print(myFloat)"
      ],
      "execution_count": 0,
      "outputs": []
    },
    {
      "cell_type": "markdown",
      "metadata": {
        "id": "pgMV5d6niep0",
        "colab_type": "text"
      },
      "source": [
        "# List and Sets\n",
        "\n",
        "These datatypes are really fun, and useful to use since they play a lot with strings & numbers. Lets get you started:\n"
      ]
    },
    {
      "cell_type": "code",
      "metadata": {
        "id": "tnO9BsFEjJOg",
        "colab_type": "code",
        "colab": {}
      },
      "source": [
        "# This is a list\n",
        "# and you can add numbers manually\n",
        "list = [1,2,3]\n",
        "\n",
        "# Or like this\n",
        "list.append(4)\n",
        "list.append(5)\n",
        "list.append(6)\n",
        "\n",
        "# We read a list like an array (we start from 0)\n",
        "print(list[0])\n",
        "print(list[1])\n",
        "print(list[2])\n",
        "\n",
        "# second part\n",
        "print(list[3])\n",
        "print(list[4])\n",
        "print(list[5])\n",
        "\n",
        "# How big is the list? and what is an ARRAY?\n"
      ],
      "execution_count": 0,
      "outputs": []
    },
    {
      "cell_type": "code",
      "metadata": {
        "id": "qlgQ-cnCk9n7",
        "colab_type": "code",
        "colab": {}
      },
      "source": [
        "# Reserved for in class example:\n",
        "\n",
        "\n",
        "\n",
        "\n"
      ],
      "execution_count": 0,
      "outputs": []
    },
    {
      "cell_type": "markdown",
      "metadata": {
        "id": "yaaOqfyEB6nx",
        "colab_type": "text"
      },
      "source": [
        "When in doubt, google the error message! Hopefully this intro was not so hard to understand. Next lesson will build up a bit more with the conditional statements, along with everything else you've learned so far. Don't worry, things will click more often with practice. Get ready to follow up for the projects, these will be released on the Discord server so you can test your knewly aquired skills! 👨🏻‍💻\n",
        "\n",
        "If you haven't joined the ***CoffeeBytes*** chat, click [here](https://discord.gg/h5CUxx6)!\n",
        "\n",
        "# See you next time!\n"
      ]
    }
  ]
}
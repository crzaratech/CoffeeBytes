{
  "nbformat": 4,
  "nbformat_minor": 0,
  "metadata": {
    "colab": {
      "name": "CoffeeBytes_02.ipynb",
      "version": "0.3.2",
      "provenance": [],
      "collapsed_sections": [],
      "include_colab_link": true
    },
    "kernelspec": {
      "name": "python3",
      "display_name": "Python 3"
    }
  },
  "cells": [
    {
      "cell_type": "markdown",
      "metadata": {
        "id": "view-in-github",
        "colab_type": "text"
      },
      "source": [
        "<a href=\"https://colab.research.google.com/github/enrprz/CoffeeBytes/blob/master/CoffeeBytes_02.ipynb\" target=\"_parent\"><img src=\"https://colab.research.google.com/assets/colab-badge.svg\" alt=\"Open In Colab\"/></a>"
      ]
    },
    {
      "cell_type": "markdown",
      "metadata": {
        "id": "f_fr-Mr-qrm7",
        "colab_type": "text"
      },
      "source": [
        "#Week 2: Strings && Conditional Statements\n",
        "\n",
        "Hello and welcome to the second part of the coding series. At the end of this lesson you should be able to: \n",
        "\n",
        "\n",
        "*   Be more familiar with Strings.\n",
        "*   Learn conditional statements.\n",
        "*   Start thinking like a robot (maybe).\n",
        "*   Start using a more technical terms.\n",
        "\n"
      ]
    },
    {
      "cell_type": "markdown",
      "metadata": {
        "id": "8HLXrx-slyRI",
        "colab_type": "text"
      },
      "source": [
        "\n",
        "\n",
        "  # String Formatting:\n",
        "  \n",
        "So you think you are very cool because you can now output \"Hello World\" on a screen? You are!!! But there's more to learn. Let me show you a couple of things, and remember if you have any problems or questions do not hesitate to ask the instructor ([Enrique](https://www.instagram.com/01000101.sh/?hl=en)) or to ask the hacker community on the SHPE Discord."
      ]
    },
    {
      "cell_type": "code",
      "metadata": {
        "id": "2ZNqQs5-qnM3",
        "colab_type": "code",
        "colab": {}
      },
      "source": [
        "# When you print something to the screen\n",
        "# you can add more text to it (inside the print function) \n",
        "# and just FORMAT your variable using '%'\n",
        "\n",
        "myName = \"Captain\"\n",
        "print (\"aye aye %s!!!\" % myName)"
      ],
      "execution_count": 0,
      "outputs": []
    },
    {
      "cell_type": "markdown",
      "metadata": {
        "id": "IAZyjyqprWsd",
        "colab_type": "text"
      },
      "source": [
        "Did you notice? We added text that was not on our original string, and we just made sure to format it with '%s' inside the quotes, and '%' right before our variable.\n",
        "\n",
        "You can also use multiple variables in the same output as long as you format for it:"
      ]
    },
    {
      "cell_type": "code",
      "metadata": {
        "id": "M-zy4mxStI-3",
        "colab_type": "code",
        "colab": {}
      },
      "source": [
        "name = \"Mr. Krabs\"\n",
        "money = 1\n",
        "\n",
        "# The first '%' will grab our 'name' variable\n",
        "# The second '%' will grab our 'money' variable\n",
        "print(\"%s really loves his $%d dollar bill.\" % (name, money))"
      ],
      "execution_count": 0,
      "outputs": []
    },
    {
      "cell_type": "markdown",
      "metadata": {
        "id": "bFKFt95wt1do",
        "colab_type": "text"
      },
      "source": [
        "Some common methods of formatting strings are:\n",
        "\n",
        "* **%s**  for String.\n",
        "* **%d**  for Integers.\n",
        "* **%f**   for Floating point numbers.\n",
        "* **%.f**  for Floating point numbers but that only show a fixed amount of digits. (e.g. = %.2f to show only 2 digits after the period).\n",
        "\n",
        "I get it, this is easy, you got the hang of strings right? \n",
        "#Hold my *coffee*:"
      ]
    },
    {
      "cell_type": "code",
      "metadata": {
        "id": "FsFp-N3pzeun",
        "colab_type": "code",
        "colab": {}
      },
      "source": [
        "# Lets get the length of a string\n",
        "\n",
        "string = \"Spongebob\"\n",
        "print(len(string))"
      ],
      "execution_count": 0,
      "outputs": []
    },
    {
      "cell_type": "code",
      "metadata": {
        "id": "_ILvm6f7z7Si",
        "colab_type": "code",
        "colab": {}
      },
      "source": [
        "# The index of the letter you are looking for\n",
        "\n",
        "string = \"Spongebob\"\n",
        "print(string.index(\"b\")) "
      ],
      "execution_count": 0,
      "outputs": []
    },
    {
      "cell_type": "code",
      "metadata": {
        "id": "LT04vos70OSZ",
        "colab_type": "code",
        "colab": {}
      },
      "source": [
        "# Printing only the section we want from the string\n",
        "# Here we use ':' and it works like [start:finish]\n",
        "\n",
        "string = \"Spongebob\"\n",
        "print(string[6:9])"
      ],
      "execution_count": 0,
      "outputs": []
    },
    {
      "cell_type": "code",
      "metadata": {
        "id": "iUvCnMXl0wJ7",
        "colab_type": "code",
        "colab": {}
      },
      "source": [
        "# Similar to the previous one but now we can SKIP!\n",
        "# Works like [start:finish:skip]\n",
        "\n",
        "string = \"Spongebob\"\n",
        "print(string[2:8:1])"
      ],
      "execution_count": 0,
      "outputs": []
    },
    {
      "cell_type": "code",
      "metadata": {
        "id": "gklSqBBD1tUs",
        "colab_type": "code",
        "colab": {}
      },
      "source": [
        "# What if...we don't put a start or finish\n",
        "\n",
        "string = \"Can you read me?\"\n",
        "print(string[:])"
      ],
      "execution_count": 0,
      "outputs": []
    },
    {
      "cell_type": "code",
      "metadata": {
        "id": "Useya25A2N6q",
        "colab_type": "code",
        "colab": {}
      },
      "source": [
        "# AND we put a negative number to skip???\n",
        "\n",
        "string = \"Can you read me?\"\n",
        "print(string[::-1])"
      ],
      "execution_count": 0,
      "outputs": []
    },
    {
      "cell_type": "code",
      "metadata": {
        "id": "wdayUuK62PrG",
        "colab_type": "code",
        "colab": {}
      },
      "source": [
        "# Lets make everything uppercase or lowercase\n",
        "\n",
        "string = \"Spongebob\"\n",
        "print(string.upper())\n",
        "print(string.lower())"
      ],
      "execution_count": 0,
      "outputs": []
    },
    {
      "cell_type": "code",
      "metadata": {
        "id": "HUaoYVfd2xB7",
        "colab_type": "code",
        "colab": {}
      },
      "source": [
        "# Lets check if what i'm looking for in the string is there\n",
        "\n",
        "string = \"Spongebob\"\n",
        "print(string.endswith(\"bob\"))"
      ],
      "execution_count": 0,
      "outputs": []
    },
    {
      "cell_type": "markdown",
      "metadata": {
        "id": "dtIO9piD4P9O",
        "colab_type": "text"
      },
      "source": [
        "Oof that was a lot of information! If you didn't catch all of that, don't worry! practice makes perfection 😉.\n",
        "\n",
        "Speaking of that lets pratice a little.\n",
        "\n",
        "# Mini quiz 01:"
      ]
    },
    {
      "cell_type": "code",
      "metadata": {
        "id": "YWd1a2vI51RL",
        "colab_type": "code",
        "colab": {}
      },
      "source": [
        "# Complete the code to do the following things on a string\n",
        "\n",
        "string = \"What's up\"\n",
        "\n",
        "# Print how long is the string\n",
        "\n",
        "# Print the number of the index for letter 't'\n",
        "\n",
        "# Print only starting from index 1 to index 3\n",
        "\n",
        "# Reverse the string\n",
        "\n",
        "# Print only the letters in the ODD indexes\n"
      ],
      "execution_count": 0,
      "outputs": []
    },
    {
      "cell_type": "markdown",
      "metadata": {
        "id": "HsB2tpsi7ch9",
        "colab_type": "text"
      },
      "source": [
        "# IF, ELSE, ELIF:\n",
        "\n",
        "Excellent, you've made it this far. Now i'll show something that is believed to be one of the most magical things in programming: **Conditional statements**. But first, lets explain a few things. As you may have heard, everything we do on a computer is in terms of electric signals, such as voltage or no voltage, **on** or **off**, and 1 or 0. But that implicitly translates to something called boolean vales \"**True**\" or \"**False**'\".\n",
        "\n",
        "Boolean terms are essential to programming because they make us think very logically, and read the code in something more of an english sentence. Lets take a look at some examples:"
      ]
    },
    {
      "cell_type": "code",
      "metadata": {
        "id": "YXijLcmbVRVQ",
        "colab_type": "code",
        "colab": {}
      },
      "source": [
        "name = \"Enrique\"\n",
        "\n",
        "# We can read this as follows:\n",
        "# Does the 'name' actually contains the string \"Enrique\"?\n",
        "\n",
        "# Here python will check if in fact the variable 'name' is equal to \"Enrique\"\n",
        "print(name == \"Enrique\")\n",
        "\n",
        "# Here because the variable name is \"Enrique\" and not \"John\" should produce a 'false' output\n",
        "print(name == \"John\")"
      ],
      "execution_count": 0,
      "outputs": []
    },
    {
      "cell_type": "code",
      "metadata": {
        "id": "4h3BsdT9V3jU",
        "colab_type": "code",
        "colab": {}
      },
      "source": [
        "# The same thing happens here, but with numbers\n",
        "x = 1\n",
        "\n",
        "print(x == 1) # Is 'x' equal to 1?\n",
        "print(x == 2) # Is 'x' equal to 2?"
      ],
      "execution_count": 0,
      "outputs": []
    },
    {
      "cell_type": "markdown",
      "metadata": {
        "id": "dkqtJ3IQWcoM",
        "colab_type": "text"
      },
      "source": [
        "Did you notice something different in the previous code? We have two different instances where we used the **'='** symbol. When the **'='** symbol is used **once** is for **assignment** (say: to assign the number1 to the variable 'x'), and when we use it **twice** **'=='** is to **compare** (say: is 'x' equal to the number 1?).\n",
        "\n",
        "Now for the next magic trick we will introduce you to the **IF** statement. It works just like you read it:\n",
        "\n",
        "  **IF** (something) **then** execute a piece of code:"
      ]
    },
    {
      "cell_type": "code",
      "metadata": {
        "id": "6mVfZlfikV97",
        "colab_type": "code",
        "colab": {}
      },
      "source": [
        "# Declare variable 'x' and assign it the value of 2.\n",
        "x = 2\n",
        "\n",
        "# If 'x' is in fact equal to 2 (if the statement turns out to be TRUE) then execute print message\n",
        "if x == 2:\n",
        "  print(\"x IS equal to 2.\")"
      ],
      "execution_count": 0,
      "outputs": []
    },
    {
      "cell_type": "markdown",
      "metadata": {
        "id": "9MdBd6UwrGEk",
        "colab_type": "text"
      },
      "source": [
        "Hurray! You executed your first if statement, this works with many things, and quite frankly, you will use it very often. Lets look at more examples, but now we can also add **ELSE**:"
      ]
    },
    {
      "cell_type": "code",
      "metadata": {
        "id": "d_J-Sml3rgK2",
        "colab_type": "code",
        "colab": {}
      },
      "source": [
        "# Declare a variable 'x' and assign the value of 1.\n",
        "# Declare a variable 'y' and assign the value of 2.\n",
        "x = 1\n",
        "y = 2\n",
        "\n",
        "\n",
        "# We know that at least 1 of the variables that we just declared\n",
        "# have the number 2. Lets test that logic:\n",
        "if x == 2:\n",
        "  print(\"x IS equal to 2.\")\n",
        "else:\n",
        "  print(\"y IS equal to 2.\") "
      ],
      "execution_count": 0,
      "outputs": []
    },
    {
      "cell_type": "markdown",
      "metadata": {
        "id": "UB6rKsq9pJIb",
        "colab_type": "text"
      },
      "source": [
        "The else works as an escape route where the IF is making the comparison. For the previous example we compared our first variable 'x' and checked to see if it was equal to 2. This case turned out to be FALSE, so the programed followed the ELSE and printed to the screen that 'y' is equal to 2. There is another special word that we can use in python that is basically a combination of the IF and ELSE:"
      ]
    },
    {
      "cell_type": "code",
      "metadata": {
        "id": "TNHtgHHjBgJa",
        "colab_type": "code",
        "colab": {}
      },
      "source": [
        "# In this program, we will make use of IF, ELIF, and ELSE.\n",
        "# To check if a number is positive, zero, or negative.\n",
        "# Consider ELIF as another way of testing with an IF.\n",
        "# What would the output be?\n",
        "\n",
        "num = 2\n",
        "\n",
        "if num > 0:                       # IF num is more than 0.\n",
        "    print(\"it's Positive!\")\n",
        "elif num == 0:                    # ELSE IF num is equal to 0.\n",
        "    print(\"it's Zero\")\n",
        "else:                             # ELSE num is neither.\n",
        "    print(\"it's Negative!\")"
      ],
      "execution_count": 0,
      "outputs": []
    },
    {
      "cell_type": "markdown",
      "metadata": {
        "id": "QZxl-WKaBgmt",
        "colab_type": "text"
      },
      "source": [
        "This was a tough one but i knew you would pull thru! 🤓. Next lesson will build up a bit more with the conditional statements, along with everything else you've learned so far. Don't worry, things will click more often with practice. Stay tuned for the execise projects at the end of the week on the Discord server.\n",
        "\n",
        "If you haven't joined the ***CoffeeBytes*** chat, click [here](https://discord.gg/h5CUxx6)!\n",
        "\n",
        "# See you next time!"
      ]
    }
  ]
}
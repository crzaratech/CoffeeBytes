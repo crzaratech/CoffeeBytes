{
  "nbformat": 4,
  "nbformat_minor": 0,
  "metadata": {
    "colab": {
      "name": "CoffeeBytes_01_ACM.ipynb",
      "provenance": [],
      "collapsed_sections": [],
      "include_colab_link": true
    },
    "kernelspec": {
      "name": "python3",
      "display_name": "Python 3"
    }
  },
  "cells": [
    {
      "cell_type": "markdown",
      "metadata": {
        "id": "view-in-github",
        "colab_type": "text"
      },
      "source": [
        "<a href=\"https://colab.research.google.com/github/enrprz/CoffeeBytes/blob/temp/CoffeeBytes_02_ACM.ipynb\" target=\"_parent\"><img src=\"https://colab.research.google.com/assets/colab-badge.svg\" alt=\"Open In Colab\"/></a>"
      ]
    },
    {
      "cell_type": "markdown",
      "metadata": {
        "id": "FUU9a9TYlLJv",
        "colab_type": "text"
      },
      "source": [
        "Before We begin, please fill out this quick survey to get a better sense of how we are doing in CoffeeBytes and of were you guys are at knowledge wise so far.\n",
        "-------------------------------------------------------------------------------\n",
        "[Super Cool Survey Link](https://enrique266012.typeform.com/to/FFaemv)\n",
        "----------------------------------------------------------"
      ]
    },
    {
      "cell_type": "markdown",
      "metadata": {
        "id": "hAKbwBLqwUmR",
        "colab_type": "text"
      },
      "source": [
        "For this lesson, we will be implementing two well known algorithms: Binary Search and Quick Sort!\n",
        "--\n",
        "\n",
        "Binary Search \n",
        "-------------\n",
        "- Runtime: Worst case: O(log(n)) VERY FAST\n",
        "- Cons: Requires a pre-sorted array to work.\n",
        "\n",
        "Quick Sort\n",
        "-----------\n",
        "- Average Case: O(nlog(n)) PRETTY FAST\n",
        "- Cons: Runtime Worse Case: O(n^2)\n",
        "\n",
        "\n",
        "\n"
      ]
    },
    {
      "cell_type": "markdown",
      "metadata": {
        "id": "AjItjAGBmL-i",
        "colab_type": "text"
      },
      "source": [
        "## Quick Sort is a Divide and Conquer Algorithm. What does that mean? It means recursion!\n",
        "\n",
        "## Quick Sort Algorithm: Steps on how it works:\n",
        "1. Pick an element, called a pivot, from the array.\n",
        "\n",
        "2. Partitioning: reorder the array so that all elements with values less than the pivot come before the pivot, while all elements with values greater than the pivot come after it (equal values can go either way). After this partitioning, the pivot is in its final position. This is called the partition operation.\n",
        "\n",
        "3. Recursively apply the above steps to the sub-array of elements with smaller values and separately to the sub-array of elements with greater values.\n",
        "\n",
        "![alt text](https://miro.medium.com/max/600/1*DtH6fEdBhoUGnjBWudJ8pA.png)\n",
        "\n",
        "\n",
        "## [Video Link of video explanation](https://www.youtube.com/watch?time_continue=25&v=SLauY6PpjW4)\n",
        "\n",
        "\n",
        "\n"
      ]
    },
    {
      "cell_type": "markdown",
      "metadata": {
        "id": "WwBt0fWb5JbN",
        "colab_type": "text"
      },
      "source": [
        "Step 1: Implement the partition!\n",
        "-----\n"
      ]
    },
    {
      "cell_type": "code",
      "metadata": {
        "id": "3ckfi0DKmaJy",
        "colab_type": "code",
        "colab": {}
      },
      "source": [
        "def partition(sort_list, low, high):\n",
        "  #implement\n",
        "  pass\n",
        "\n"
      ],
      "execution_count": 0,
      "outputs": []
    },
    {
      "cell_type": "markdown",
      "metadata": {
        "id": "nuzJ1Keu5bSe",
        "colab_type": "text"
      },
      "source": [
        "Step 2: Implement the Recursive QuickSort!\n",
        "-----------\n",
        "\n"
      ]
    },
    {
      "cell_type": "code",
      "metadata": {
        "id": "zR8_uhTOm-7g",
        "colab_type": "code",
        "colab": {}
      },
      "source": [
        "def quick_sort(sort_list, low, high):\n",
        "  #implement\n",
        "  pass\n",
        "  \n"
      ],
      "execution_count": 0,
      "outputs": []
    },
    {
      "cell_type": "markdown",
      "metadata": {
        "id": "4R-oirx1g_lm",
        "colab_type": "text"
      },
      "source": [
        "Step 3: Test it!\n",
        "----"
      ]
    },
    {
      "cell_type": "code",
      "metadata": {
        "id": "6thPtwNL6J2X",
        "colab_type": "code",
        "colab": {}
      },
      "source": [
        "lst = [7, 3, 1, 2, 0, 5, 2]\n",
        "\n",
        "low = 0\n",
        "high = len(lst) - 1\n",
        "quick_sort(lst, low, high)\n",
        "print(lst)"
      ],
      "execution_count": 0,
      "outputs": []
    },
    {
      "cell_type": "markdown",
      "metadata": {
        "id": "ru_SPCnE8uX3",
        "colab_type": "text"
      },
      "source": [
        "Binary Search is also a Divide and Conquer Algorithm. It requires a sorted list, but thats fine since we now have a working sort algorithm :D (QuickSort) It finds an element in a list in O(log(n)) time, or returns False otherwise.\n",
        "--------\n",
        "1. Compare x with the middle element.\n",
        "\n",
        "2. If x matches with middle element, we return the mid index.\n",
        "\n",
        "3. Else If x is greater than the mid element, then x can only lie in right half subarray after the mid element. So we recurse for right half.\n",
        "\n",
        "4. Else (x is smaller) recurse for the left half.\n",
        "\n",
        "![alt text](https://www.java2blog.com/wp-content/uploads/2015/07/BinarySearchInJava-1.jpg)\n",
        "\n"
      ]
    },
    {
      "cell_type": "markdown",
      "metadata": {
        "id": "EzbQUi2o9npX",
        "colab_type": "text"
      },
      "source": [
        "Step 1: Implement Binary Search Step by Step!\n",
        "---"
      ]
    },
    {
      "cell_type": "code",
      "metadata": {
        "id": "NzwTLCQwBjLy",
        "colab_type": "code",
        "colab": {}
      },
      "source": [
        "def binarySearch(alist, item):\n",
        "  # Base Case (Do what?)\n",
        "    if :\n",
        "        return \n",
        "    # Recursive Case\n",
        "    else:\n",
        "        # Compute Midpoint\n",
        "        midpoint = \n",
        "        \n",
        "        # What happens if the midpoint is where item is?\n",
        "        if :\n",
        "            return \n",
        "        \n",
        "        # What happens otherwise?\n",
        "        else:\n",
        "            \n",
        "            # Recurse left or right. How do you decide?\n",
        "            if :\n",
        "                return binarySearch()\n",
        "            else:\n",
        "                return binarySearch()"
      ],
      "execution_count": 0,
      "outputs": []
    },
    {
      "cell_type": "markdown",
      "metadata": {
        "id": "S3sMafIn_YW7",
        "colab_type": "text"
      },
      "source": [
        "Step 2: Test it!\n",
        "---"
      ]
    },
    {
      "cell_type": "code",
      "metadata": {
        "id": "mXolg0Zd_a6M",
        "colab_type": "code",
        "colab": {}
      },
      "source": [
        "test = [0, 1, 2, 8, 13, 17, 19, 32, 42,]\n",
        "print(binarySearch(test, 3))\n",
        "print(binarySearch(test, 13))"
      ],
      "execution_count": 0,
      "outputs": []
    }
  ]
}
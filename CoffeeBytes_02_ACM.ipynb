{
  "nbformat": 4,
  "nbformat_minor": 0,
  "metadata": {
    "colab": {
      "name": "CoffeeBytes_01_ACM.ipynb",
      "provenance": [],
      "collapsed_sections": [],
      "include_colab_link": true
    },
    "kernelspec": {
      "name": "python3",
      "display_name": "Python 3"
    }
  },
  "cells": [
    {
      "cell_type": "markdown",
      "metadata": {
        "id": "view-in-github",
        "colab_type": "text"
      },
      "source": [
        "<a href=\"https://colab.research.google.com/github/enrprz/CoffeeBytes/blob/temp/CoffeeBytes_02_ACM.ipynb\" target=\"_parent\"><img src=\"https://colab.research.google.com/assets/colab-badge.svg\" alt=\"Open In Colab\"/></a>"
      ]
    },
    {
      "cell_type": "markdown",
      "metadata": {
        "id": "FUU9a9TYlLJv",
        "colab_type": "text"
      },
      "source": [
        "Before We begin, please fill out this quick survey to get a better sense of how we are doing in CoffeeBytes and of were you guys are at knowledge wise so far.\n",
        "-------------------------------------------------------------------------------\n",
        "[Super Cool Survey Link](https://enrique266012.typeform.com/to/FFaemv)\n",
        "----------------------------------------------------------"
      ]
    },
    {
      "cell_type": "markdown",
      "metadata": {
        "id": "hAKbwBLqwUmR",
        "colab_type": "text"
      },
      "source": [
        "For this lesson, we will be implementing two well known algorithms: Binary Search and Quick Sort!\n",
        "--\n",
        "\n",
        "Binary Search \n",
        "-------------\n",
        "- Runtime: Worst case: O(log(n)) VERY FAST\n",
        "- Cons: Requires a pre-sorted array to work.\n",
        "\n",
        "Quick Sort\n",
        "-----------\n",
        "- Average Case: O(nlog(n)) PRETTY FAST\n",
        "- Cons: Runtime Worse Case: O(n^2)\n",
        "\n",
        "\n",
        "\n"
      ]
    },
    {
      "cell_type": "markdown",
      "metadata": {
        "id": "AjItjAGBmL-i",
        "colab_type": "text"
      },
      "source": [
        "## Quick Sort is a divide and Conquer Algorithm. What does that mean? It means recursion!\n",
        "\n",
        "## Quick Sort Algorithm: Steps on how it works:\n",
        "1. Find a “pivot” item in the array. This item is the basis for comparison for a single round.\n",
        "\n",
        "2. Start a pointer (the left pointer) at the first item in the array.\n",
        "\n",
        "3. Start a pointer (the right pointer) at the last item in the array.\n",
        "\n",
        "4. While the value at the left pointer in the array is less than the pivot value, move the left pointer to the right (add 1). Continue until the value at the left pointer is greater than or equal to the pivot value.\n",
        "\n",
        "5. While the value at the right pointer in the array is greater than the pivot value, move the right pointer to the left (subtract 1). Continue until the value at the right pointer is less than or equal to the pivot value.\n",
        "\n",
        "6. If the left pointer is less than or equal to the right pointer, then swap the values at these locations in the array.\n",
        "\n",
        "7. Move the left pointer to the right by one and the right pointer to the left by one.\n",
        "\n",
        "8. If the left pointer and right pointer don’t meet, go to step 1.\n",
        "\n",
        "![alt text](https://miro.medium.com/max/600/1*DtH6fEdBhoUGnjBWudJ8pA.png)\n",
        "\n",
        "\n",
        "## [Video Link of video explanation](https://www.youtube.com/watch?time_continue=25&v=SLauY6PpjW4)\n",
        "\n"
      ]
    },
    {
      "cell_type": "code",
      "metadata": {
        "id": "3ckfi0DKmaJy",
        "colab_type": "code",
        "colab": {}
      },
      "source": [
        "_num1 = 1\n",
        "_num2 = 2\n",
        "\n",
        "print(_num1 * _num2)\n",
        "\n",
        "_num1 = _num2 + 4\n",
        "_num2 = _num1 * 2\n",
        "\n",
        "print(_num1)\n",
        "print(_num2)\n",
        "\n",
        "_num1 = 4 / _num2\n",
        "\n",
        "print(_num1)\n"
      ],
      "execution_count": 0,
      "outputs": []
    },
    {
      "cell_type": "markdown",
      "metadata": {
        "id": "B36daFVmnLp5",
        "colab_type": "text"
      },
      "source": [
        "We can also use variables to store characters and strings"
      ]
    },
    {
      "cell_type": "code",
      "metadata": {
        "id": "zR8_uhTOm-7g",
        "colab_type": "code",
        "colab": {}
      },
      "source": [
        "_char1 = 'a'\n",
        "_char2 = 'b'\n",
        "_myString = \"I love python\"\n",
        "print(_char1 + _char2)\n",
        "print(_myString)\n",
        "print(_char1 + 2) # Why does this produce an error?\n"
      ],
      "execution_count": 0,
      "outputs": []
    },
    {
      "cell_type": "markdown",
      "metadata": {
        "id": "XrmGwFJSp1ah",
        "colab_type": "text"
      },
      "source": [
        "Lastly for this review, we'll go over lists."
      ]
    },
    {
      "cell_type": "code",
      "metadata": {
        "id": "jaVayT4Np0aW",
        "colab_type": "code",
        "colab": {}
      },
      "source": [
        "_myList = [0,1,2]\n",
        "print(_myList)\n",
        "\n",
        "_myList.append(3)\n",
        "\n",
        "# Yes, you can have multiple data types in one list!\n",
        "_myList.insert(3, \"I shouldn't belong here\")\n",
        "print(_myList)\n",
        "\n",
        "print(\"_myList is\", len(_myList), \"items long.\\n\")\n",
        "\n",
        "# Print the second item on the list.\n",
        "\n",
        "# Print the last item on the list, should work for any list length."
      ],
      "execution_count": 0,
      "outputs": []
    },
    {
      "cell_type": "markdown",
      "metadata": {
        "id": "4R-oirx1g_lm",
        "colab_type": "text"
      },
      "source": [
        "**Open Ended Problems**"
      ]
    },
    {
      "cell_type": "markdown",
      "metadata": {
        "id": "HJQgs3h0rCQT",
        "colab_type": "text"
      },
      "source": [
        "1) Create a list that holds strings of all North American countries."
      ]
    },
    {
      "cell_type": "markdown",
      "metadata": {
        "id": "wU2tc4OWsBGr",
        "colab_type": "text"
      },
      "source": [
        "2) For each country, append each countries population. ex: \"USA: 327,200,000\", and print the new list/array one by one."
      ]
    },
    {
      "cell_type": "markdown",
      "metadata": {
        "id": "bAtbKq8_hIHE",
        "colab_type": "text"
      },
      "source": [
        "3) Create 3 variables, choose any variable name. One variable should hold a string, the other variable an integer, and the last variable should hold a floating point number."
      ]
    },
    {
      "cell_type": "markdown",
      "metadata": {
        "id": "hX_kX4exhTk_",
        "colab_type": "text"
      },
      "source": [
        "4) Try to add all 3 variables defined above and have it result in a floating point integer."
      ]
    },
    {
      "cell_type": "markdown",
      "metadata": {
        "id": "WncU_qQWnRbX",
        "colab_type": "text"
      },
      "source": [
        "5) Create a string variable containing \"Helo Worl\". Next insert the missing characters into the string. The result should be \"Hello World\". Print the variable for testing."
      ]
    },
    {
      "cell_type": "markdown",
      "metadata": {
        "id": "pKgME94RkKks",
        "colab_type": "text"
      },
      "source": [
        "**Solve each problem below.**"
      ]
    },
    {
      "cell_type": "code",
      "metadata": {
        "id": "rmJjn5yUjQVV",
        "colab_type": "code",
        "colab": {}
      },
      "source": [
        "# Problem 1\n",
        "\n",
        "# Problem 2\n",
        "\n",
        "# Problem 3\n",
        "\n",
        "# Problem 4\n",
        "\n",
        "# Problem 5"
      ],
      "execution_count": 0,
      "outputs": []
    },
    {
      "cell_type": "markdown",
      "metadata": {
        "id": "8GgbR_qrvFW2",
        "colab_type": "text"
      },
      "source": [
        "# Find 33\n",
        "\n",
        "## Given a list of ints, return True if the array contains a 3 next to a 3 somewhere.\n"
      ]
    },
    {
      "cell_type": "code",
      "metadata": {
        "id": "fGI2zFN8vNY4",
        "colab_type": "code",
        "colab": {}
      },
      "source": [
        "has_33([1, 3, 3]) → True\n",
        "has_33([1, 3, 1, 3]) → False\n",
        "has_33([3, 1, 3]) → False"
      ],
      "execution_count": 0,
      "outputs": []
    },
    {
      "cell_type": "markdown",
      "metadata": {
        "id": "1OcJkhu9vR-c",
        "colab_type": "text"
      },
      "source": [
        "## Solution: "
      ]
    },
    {
      "cell_type": "code",
      "metadata": {
        "id": "pn1UDo3-vQOM",
        "colab_type": "code",
        "colab": {}
      },
      "source": [
        "def has_33(nums):\n",
        "    for i, x in enumerate(nums):\n",
        "        if x == 3:\n",
        "            #Check if index at end of list        \n",
        "            if i == len(nums) - 1: return False\n",
        "            elif nums[i + 1] == 3: return True"
      ],
      "execution_count": 0,
      "outputs": []
    },
    {
      "cell_type": "code",
      "metadata": {
        "id": "_1d0QBMqvbMf",
        "colab_type": "code",
        "outputId": "5e2c0226-0034-4040-a902-553677cc5e68",
        "colab": {
          "base_uri": "https://localhost:8080/",
          "height": 34
        }
      },
      "source": [
        "has_33([1, 3, 3])"
      ],
      "execution_count": 0,
      "outputs": [
        {
          "output_type": "execute_result",
          "data": {
            "text/plain": [
              "True"
            ]
          },
          "metadata": {
            "tags": []
          },
          "execution_count": 3
        }
      ]
    }
  ]
}